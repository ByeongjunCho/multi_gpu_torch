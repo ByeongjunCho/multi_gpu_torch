{
 "cells": [
  {
   "cell_type": "markdown",
   "metadata": {},
   "source": [
    "# 1. Load dataset"
   ]
  },
  {
   "cell_type": "code",
   "execution_count": 1,
   "metadata": {},
   "outputs": [],
   "source": [
    "!git clone https://github.com/e9t/nsmc.git"
   ]
  },
  {
   "cell_type": "markdown",
   "metadata": {},
   "source": [
    "# 2. Load modules"
   ]
  },
  {
   "cell_type": "code",
   "execution_count": 2,
   "metadata": {},
   "outputs": [],
   "source": [
    "import torch\n",
    "import torch.nn as nn\n",
    "import torch.optim as optim\n",
    "from torch.utils.data import Dataset, DataLoader\n",
    "from torch.utils.tensorboard import SummaryWriter\n",
    "import torch.distributed as dist\n",
    "from torch.nn.parallel import DistributedDataParallel\n",
    "import torch.multiprocessing as mp\n",
    "\n",
    "import pandas as pd\n",
    "import time\n",
    "import datetime\n",
    "import os\n",
    "from IPython.display import clear_output\n",
    "from transformers import BertTokenizerFast, BertForSequenceClassification\n",
    "from transformers import AdamW, get_linear_schedule_with_warmup "
   ]
  },
  {
   "cell_type": "code",
   "execution_count": 3,
   "metadata": {},
   "outputs": [],
   "source": [
    "class Args():\n",
    "    def __init__(self):\n",
    "        self.epochs = 5\n",
    "        self.arch = 'BERT_NSMC_singleGPU'\n",
    "        self.lr = 5e-5\n",
    "        self.batch_size = 64\n",
    "        self.gpu = 1"
   ]
  },
  {
   "cell_type": "code",
   "execution_count": 4,
   "metadata": {},
   "outputs": [],
   "source": [
    "args = Args()"
   ]
  },
  {
   "cell_type": "markdown",
   "metadata": {},
   "source": [
    "# 3. load model and tokenizer"
   ]
  },
  {
   "cell_type": "code",
   "execution_count": 5,
   "metadata": {},
   "outputs": [
    {
     "name": "stderr",
     "output_type": "stream",
     "text": [
      "Some weights of the model checkpoint at kykim/bert-kor-base were not used when initializing BertForSequenceClassification: ['cls.predictions.bias', 'cls.predictions.transform.dense.weight', 'cls.predictions.transform.dense.bias', 'cls.predictions.transform.LayerNorm.weight', 'cls.predictions.transform.LayerNorm.bias', 'cls.predictions.decoder.weight', 'cls.predictions.decoder.bias', 'cls.seq_relationship.weight', 'cls.seq_relationship.bias']\n",
      "- This IS expected if you are initializing BertForSequenceClassification from the checkpoint of a model trained on another task or with another architecture (e.g. initializing a BertForSequenceClassification model from a BertForPreTraining model).\n",
      "- This IS NOT expected if you are initializing BertForSequenceClassification from the checkpoint of a model that you expect to be exactly identical (initializing a BertForSequenceClassification model from a BertForSequenceClassification model).\n",
      "Some weights of BertForSequenceClassification were not initialized from the model checkpoint at kykim/bert-kor-base and are newly initialized: ['classifier.weight', 'classifier.bias']\n",
      "You should probably TRAIN this model on a down-stream task to be able to use it for predictions and inference.\n"
     ]
    }
   ],
   "source": [
    "model = BertForSequenceClassification.from_pretrained(\"kykim/bert-kor-base\")\n",
    "tokenizer = BertTokenizerFast.from_pretrained(\"kykim/bert-kor-base\")"
   ]
  },
  {
   "cell_type": "markdown",
   "metadata": {},
   "source": [
    "# 4. load dataset"
   ]
  },
  {
   "cell_type": "code",
   "execution_count": 6,
   "metadata": {},
   "outputs": [],
   "source": [
    "class NSMCDataset(torch.utils.data.Dataset):\n",
    "    def __init__(self, encodings, labels):\n",
    "        self.encodings = encodings\n",
    "        self.labels = labels\n",
    "\n",
    "    def __getitem__(self, idx):\n",
    "        item = {key: torch.tensor(val[idx]) for key, val in self.encodings.items()}\n",
    "        item['labels'] = torch.tensor(self.labels[idx])\n",
    "        return item\n",
    "\n",
    "    def __len__(self):\n",
    "        return len(self.labels)\n",
    "\n",
    "# load nsmc dataset\n",
    "nsmc_train = pd.read_csv('./nsmc/ratings_train.txt', sep='\\t', encoding='utf-8')\n",
    "nsmc_test = pd.read_csv('./nsmc/ratings_test.txt', sep='\\t', encoding='utf-8')\n",
    "\n",
    "# slicing dataset\n",
    "nsmc_train = nsmc_train[:50000]\n",
    "nsmc_test = nsmc_test[:5000]\n",
    "\n",
    "nsmc_train['document'] = nsmc_train['document'].apply(str)\n",
    "nsmc_test['document'] = nsmc_test['document'].apply(str)\n",
    "\n",
    "\n",
    "# encoding\n",
    "train_encodings = tokenizer(list(nsmc_train['document']), truncation=True, padding=True)\n",
    "test_encodings = tokenizer(list(nsmc_test['document']), truncation=True, padding=True)\n",
    "\n",
    "train_dataset = NSMCDataset(train_encodings, nsmc_train['label'])\n",
    "test_dataset = NSMCDataset(test_encodings, nsmc_test['label'])"
   ]
  },
  {
   "cell_type": "code",
   "execution_count": 7,
   "metadata": {},
   "outputs": [],
   "source": [
    "# dataloader\n",
    "\n",
    "train_loader = DataLoader(train_dataset, batch_size=args.batch_size, shuffle=True)\n",
    "test_loader = DataLoader(test_dataset, batch_size=args.batch_size, shuffle=False)"
   ]
  },
  {
   "cell_type": "code",
   "execution_count": 8,
   "metadata": {},
   "outputs": [
    {
     "data": {
      "text/plain": [
       "{'input_ids': tensor([[    2, 22593, 14592,  ...,     0,     0,     0],\n",
       "         [    2, 14788, 23019,  ...,     0,     0,     0],\n",
       "         [    2, 14188, 15077,  ...,     0,     0,     0],\n",
       "         ...,\n",
       "         [    2, 18690, 18411,  ...,     0,     0,     0],\n",
       "         [    2,  2787,  8228,  ...,     0,     0,     0],\n",
       "         [    2, 15077,  2016,  ...,     0,     0,     0]]),\n",
       " 'token_type_ids': tensor([[0, 0, 0,  ..., 0, 0, 0],\n",
       "         [0, 0, 0,  ..., 0, 0, 0],\n",
       "         [0, 0, 0,  ..., 0, 0, 0],\n",
       "         ...,\n",
       "         [0, 0, 0,  ..., 0, 0, 0],\n",
       "         [0, 0, 0,  ..., 0, 0, 0],\n",
       "         [0, 0, 0,  ..., 0, 0, 0]]),\n",
       " 'attention_mask': tensor([[1, 1, 1,  ..., 0, 0, 0],\n",
       "         [1, 1, 1,  ..., 0, 0, 0],\n",
       "         [1, 1, 1,  ..., 0, 0, 0],\n",
       "         ...,\n",
       "         [1, 1, 1,  ..., 0, 0, 0],\n",
       "         [1, 1, 1,  ..., 0, 0, 0],\n",
       "         [1, 1, 1,  ..., 0, 0, 0]]),\n",
       " 'labels': tensor([0, 0, 0, 1, 0, 1, 0, 0, 1, 1, 0, 0, 1, 0, 0, 0, 1, 0, 1, 0, 0, 0, 0, 0,\n",
       "         1, 1, 1, 1, 1, 0, 0, 0, 1, 0, 0, 1, 1, 0, 1, 1, 0, 1, 1, 0, 1, 1, 0, 1,\n",
       "         1, 1, 0, 1, 1, 1, 0, 1, 0, 0, 0, 1, 1, 0, 0, 0])}"
      ]
     },
     "execution_count": 8,
     "metadata": {},
     "output_type": "execute_result"
    }
   ],
   "source": [
    "next(iter(train_loader))"
   ]
  },
  {
   "cell_type": "markdown",
   "metadata": {},
   "source": [
    "# 6. train and test"
   ]
  },
  {
   "cell_type": "code",
   "execution_count": 9,
   "metadata": {},
   "outputs": [],
   "source": [
    "# define optimizer and scheduler \n",
    "\n",
    "# layerNorm and bias do not trained\n",
    "no_decay = ['bias', 'LayerNorm.weight']\n",
    "optimizer_grouped_parameters = [\n",
    "    {'params': [p for n, p in model.named_parameters() if not any(nd in n for nd in no_decay)],\n",
    "     'weight_decay': 0.01},\n",
    "    {'params': [p for n, p in model.named_parameters() if any(nd in n for nd in no_decay)], 'weight_decay': 0.0}\n",
    "]\n",
    "\n",
    "# scheduler reference => https://huggingface.co/transformers/main_classes/optimizer_schedules.html#transformers.get_linear_schedule_with_warmup\n",
    "# using scheduler \n",
    "optimizer = AdamW(optimizer_grouped_parameters, lr=args.lr)\n",
    "scheduler = get_linear_schedule_with_warmup(optimizer, len(train_loader) * args.epochs // 8, len(train_loader)*args.epochs)"
   ]
  },
  {
   "cell_type": "code",
   "execution_count": 10,
   "metadata": {},
   "outputs": [
    {
     "data": {
      "text/plain": [
       "157"
      ]
     },
     "execution_count": 10,
     "metadata": {},
     "output_type": "execute_result"
    }
   ],
   "source": [
    "len(train_loader)"
   ]
  },
  {
   "cell_type": "code",
   "execution_count": 11,
   "metadata": {},
   "outputs": [
    {
     "name": "stdout",
     "output_type": "stream",
     "text": [
      "===================================================\n",
      "=================== test ==========================\n",
      "===================================================\n",
      "Epoch: 4 \n",
      "total_steps: 784 \n",
      "loss: 0.445 \n",
      "test_acc : 88.800 \n",
      "\n",
      "Epoch 4 finished!. Save model\n",
      "Total training time: 304.5348002910614\n"
     ]
    }
   ],
   "source": [
    "# training\n",
    "# Single GPU\n",
    "\n",
    "torch.cuda.empty_cache()\n",
    "\n",
    "writer = SummaryWriter(f'./runs/{args.arch}')\n",
    "print_train = len(train_loader) // 10\n",
    "total_epoch_start = time.time()\n",
    "\n",
    "# for load model\n",
    "best_acc = 0\n",
    "best_model_name = ''\n",
    "\n",
    "# for plot train and test loss\n",
    "train_iter_list = []\n",
    "train_loss_list = []\n",
    "train_acc_list = []\n",
    "test_iter_list = []\n",
    "test_loss_list = []\n",
    "test_acc_list = []\n",
    "for epoch in range(args.epochs):\n",
    "    model.train()\n",
    "    model.cuda(args.gpu)\n",
    "    \n",
    "    train_loss = 0\n",
    "    correct = 0\n",
    "    total = 0\n",
    "    print('====================================================')\n",
    "    print('=================== Training =======================')\n",
    "    print('====================================================')\n",
    "\n",
    "    epoch_start = time.time()\n",
    "    for idx, batch in enumerate(train_loader):\n",
    "        start = time.time()\n",
    "        inputs = {k: v.cuda(args.gpu) for k, v in batch.items()}\n",
    "        outputs = model(**inputs)\n",
    "        \n",
    "        optimizer.zero_grad()\n",
    "        outputs.loss.backward()\n",
    "        optimizer.step()\n",
    "        scheduler.step()\n",
    "        \n",
    "        train_loss += outputs.loss.item()\n",
    "        total += inputs['labels'].size(0)\n",
    "        correct += inputs['labels'].eq(outputs.logits.argmax(axis=1)).sum().item()\n",
    "        \n",
    "        acc = 100 * correct / total\n",
    "        batch_time = time.time() - start\n",
    "        \n",
    "        train_iter_list.append(epoch * len(train_loader) + idx)\n",
    "        train_loss_list.append(outputs.loss.item())\n",
    "        train_acc_list.append(acc)\n",
    "        if idx % print_train == 0:\n",
    "            print(f'Epoch: {epoch} \\n'\n",
    "                  f'total_steps: {epoch * len(train_loader) + idx} \\n'\n",
    "                  f'loss: {train_loss / (idx+1):.3f} \\n'\n",
    "                  f'acc : {acc:.3f} \\n'\n",
    "                  f'batch_time : {batch_time} \\n'\n",
    "                  )\n",
    "        writer.add_scalar('Loss/train',\n",
    "                           outputs.loss.item(),\n",
    "                           epoch * len(train_loader) + idx)\n",
    "        writer.add_scalars('Loss', \n",
    "                           {'Train_Loss': outputs.loss.item()}, \n",
    "                          epoch * len(train_loader) + idx)\n",
    "        \n",
    "    \n",
    "    # test\n",
    "    test_loss = 0\n",
    "    correct = 0\n",
    "    total = 0\n",
    "    model.eval()\n",
    "    elapse_time = time.time() - epoch_start\n",
    "    elapse_time = datetime.timedelta(seconds=elapse_time)\n",
    "    print(f\"Epoch training: {elapse_time}\")\n",
    "    clear_output(wait=True)\n",
    "    # test\n",
    "    print('===================================================')\n",
    "    print('=================== test ==========================')\n",
    "    print('===================================================')\n",
    "    with torch.no_grad():\n",
    "        for inputs in test_loader:\n",
    "            start = time.time()\n",
    "            inputs = {k: v.cuda(args.gpu) for k, v in inputs.items()}\n",
    "            outputs = model(**inputs)\n",
    "\n",
    "            total += inputs['labels'].size(0)\n",
    "            correct += inputs['labels'].eq(outputs.logits.argmax(axis=1)).sum().item()\n",
    "            test_loss += outputs.loss.item()\n",
    "\n",
    "            acc = 100 * correct / total\n",
    "            \n",
    "        # write test result\n",
    "        test_iter_list.append(epoch * len(train_loader) + idx)\n",
    "        test_loss_list.append(test_loss/len(test_loader))\n",
    "        test_acc_list.append(acc)\n",
    "        print(f'Epoch: {epoch} \\n'\n",
    "              f'total_steps: {epoch * len(train_loader) + idx} \\n'\n",
    "              f'loss: {test_loss/len(test_loader):.3f} \\n'\n",
    "              f'test_acc : {acc:.3f} \\n'\n",
    "              )\n",
    "        writer.add_scalar('Loss/test',\n",
    "                           test_loss/len(test_loader),\n",
    "                           epoch * len(train_loader) + idx\n",
    "                           )\n",
    "        writer.add_scalars('Loss', \n",
    "                           {'Test_Loss': test_loss/len(test_loader)},\n",
    "                           epoch * len(train_loader) + idx\n",
    "                          )\n",
    "        \n",
    "    print(f'Epoch {epoch} finished!. Save model')\n",
    "    os.makedirs(f'./{args.arch}', exist_ok=True)\n",
    "    # model parameter save per epoch. \n",
    "    torch.save(model.state_dict(), f'./{args.arch}/{epoch}_{test_loss/len(test_loader):.3f}_{acc:.3f}.pt')\n",
    "    if best_acc < acc:\n",
    "        best_acc = acc\n",
    "        best_model_name = f'./{args.arch}/{epoch}_{test_loss/len(test_loader):.3f}_{acc:.3f}.pt'\n",
    "        \n",
    "print(f'Total training time: {time.time() - total_epoch_start}')"
   ]
  },
  {
   "cell_type": "code",
   "execution_count": 13,
   "metadata": {},
   "outputs": [],
   "source": [
    "# train_iter_list = []\n",
    "# train_loss_list = []\n",
    "# train_acc_list = []\n",
    "# test_iter_list = []\n",
    "# test_loss_list = []\n",
    "# test_acc_list = []\n",
    "\n",
    "import matplotlib.pyplot as plt"
   ]
  },
  {
   "cell_type": "code",
   "execution_count": 15,
   "metadata": {},
   "outputs": [
    {
     "data": {
      "image/png": "[encoded data removed]",
      "text/plain": [
       "<Figure size 1440x1440 with 1 Axes>"
      ]
     },
     "metadata": {
      "needs_background": "light"
     },
     "output_type": "display_data"
    }
   ],
   "source": [
    "# plot train and test loss\n",
    "fig = plt.figure(figsize=(20,20))\n",
    "ax = fig.add_subplot()\n",
    "ax.scatter(train_iter_list, train_loss_list, color='r', label='Train_Loss')\n",
    "ax.scatter(test_iter_list, test_loss_list, color='b', label='Test_Loss')\n",
    "ax.grid(True)"
   ]
  },
  {
   "cell_type": "code",
   "execution_count": 20,
   "metadata": {},
   "outputs": [
    {
     "data": {
      "text/plain": [
       "'./BERT_NSMC_singleGPU/4_0.445_88.800.pt'"
      ]
     },
     "execution_count": 20,
     "metadata": {},
     "output_type": "execute_result"
    }
   ],
   "source": [
    "best_model_name"
   ]
  },
  {
   "cell_type": "code",
   "execution_count": 22,
   "metadata": {},
   "outputs": [
    {
     "data": {
      "text/plain": [
       "88.8"
      ]
     },
     "execution_count": 22,
     "metadata": {},
     "output_type": "execute_result"
    }
   ],
   "source": [
    "best_acc"
   ]
  },
  {
   "cell_type": "code",
   "execution_count": 23,
   "metadata": {},
   "outputs": [],
   "source": [
    "# load best model\n",
    "model = model.load_state_dict(torch.load(best_model_name))"
   ]
  },
  {
   "cell_type": "code",
   "execution_count": null,
   "metadata": {},
   "outputs": [],
   "source": []
  },
  {
   "cell_type": "code",
   "execution_count": null,
   "metadata": {},
   "outputs": [],
   "source": []
  }
 ],
 "metadata": {
  "kernelspec": {
   "display_name": "Python 3",
   "language": "python",
   "name": "python3"
  },
  "language_info": {
   "codemirror_mode": {
    "name": "ipython",
    "version": 3
   },
   "file_extension": ".py",
   "mimetype": "text/x-python",
   "name": "python",
   "nbconvert_exporter": "python",
   "pygments_lexer": "ipython3",
   "version": "3.8.5"
  }
 },
 "nbformat": 4,
 "nbformat_minor": 4
}
